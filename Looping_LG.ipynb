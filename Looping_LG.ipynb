{
 "cells": [
  {
   "cell_type": "markdown",
   "metadata": {},
   "source": [
    "Fifth LangGraph which tries to guess the number given by user, using looping"
   ]
  },
  {
   "cell_type": "code",
   "execution_count": 114,
   "metadata": {},
   "outputs": [],
   "source": [
    "from typing import TypedDict\n",
    "from langgraph.graph import StateGraph, START, END\n",
    "from random import *"
   ]
  },
  {
   "cell_type": "code",
   "execution_count": 127,
   "metadata": {},
   "outputs": [],
   "source": [
    "class State(TypedDict):\n",
    "    name : str\n",
    "    number : int\n",
    "    guess : int\n",
    "    guesses_left : int\n",
    "    lower_bound : int\n",
    "    upper_bound : int\n"
   ]
  },
  {
   "cell_type": "code",
   "execution_count": 128,
   "metadata": {},
   "outputs": [],
   "source": [
    "def greeting_node(state : State) -> State:\n",
    "    \"\"\"setup node to greet the user and initialise the context\"\"\"\n",
    "    print(f\"Hi {state[\"name\"]}, let me try to guess your number\")\n",
    "    state[\"guesses_left\"] = 7\n",
    "    state[\"lower_bound\"] = 1\n",
    "    state[\"upper_bound\"] = 20\n",
    "    return state\n",
    "\n",
    "def guess_node(state : State) -> State:\n",
    "    \"\"\"node to guess the number given by user\"\"\"\n",
    "\n",
    "    state[\"guess\"] = randint(state[\"lower_bound\"], state[\"upper_bound\"])\n",
    "    print(f\"my guess is {state[\"guess\"]}\")\n",
    "    \n",
    "    state[\"guesses_left\"] = state[\"guesses_left\"] - 1\n",
    "    \n",
    "    return state\n",
    "\n",
    "def check_node(state : State) -> State:\n",
    "    \"\"\"node to check if the guess is correct and provide hint if it is incorrect\"\"\"\n",
    "    \n",
    "    if (state[\"number\"] > state[\"guess\"]):\n",
    "        print(\"the number is higher than the guess\")\n",
    "        state[\"lower_bound\"] = state[\"guess\"] + 1\n",
    "\n",
    "    else :\n",
    "        print(\"the number is lower than the guess\")\n",
    "        state[\"upper_bound\"] = state[\"guess\"] - 1\n",
    "  \n",
    "    return state\n",
    "    \n",
    "def should_continue(state : State) -> str:\n",
    "    \"determine if to continue or end\"\n",
    "    if (state[\"number\"] == state[\"guess\"]):\n",
    "        print(f\"correctly guessed number {state[\"guess\"]}\")\n",
    "        return \"end\"\n",
    "    elif (state[\"guesses_left\"] == 0):\n",
    "            print(\"out of guess attempts\")\n",
    "            return \"end\"\n",
    "    else:\n",
    "         return \"continue\"\n",
    "\n"
   ]
  },
  {
   "cell_type": "code",
   "execution_count": 129,
   "metadata": {},
   "outputs": [],
   "source": [
    "graph = StateGraph(State)\n",
    "graph.add_node(\"greeting_node\", greeting_node)\n",
    "graph.add_node(\"guess_node\", guess_node)\n",
    "graph.add_node(\"check_node\", check_node)\n",
    "\n",
    "graph.add_edge(START, \"greeting_node\")\n",
    "graph.add_edge(\"greeting_node\", \"guess_node\")\n",
    "graph.add_edge(\"guess_node\", \"check_node\")\n",
    "\n",
    "graph.add_conditional_edges(\n",
    "    \"check_node\",\n",
    "    should_continue, \n",
    "    {\n",
    "        \"continue\" : \"guess_node\",\n",
    "        \"end\" : END\n",
    "    }\n",
    ")\n",
    "\n",
    "app = graph.compile()"
   ]
  },
  {
   "cell_type": "code",
   "execution_count": 130,
   "metadata": {},
   "outputs": [
    {
     "data": {
      "image/png": "[encoded data removed]",
      "text/plain": [
       "<IPython.core.display.Image object>"
      ]
     },
     "metadata": {},
     "output_type": "display_data"
    }
   ],
   "source": [
    "from IPython.display import Image, display\n",
    "display(Image(app.get_graph().draw_mermaid_png()))"
   ]
  },
  {
   "cell_type": "code",
   "execution_count": 132,
   "metadata": {},
   "outputs": [
    {
     "name": "stdout",
     "output_type": "stream",
     "text": [
      "Hi Rammohan, let me try to guess your number\n",
      "my guess is 15\n",
      "the number is lower than the guess\n",
      "my guess is 10\n",
      "the number is lower than the guess\n",
      "my guess is 5\n",
      "the number is higher than the guess\n",
      "my guess is 7\n",
      "the number is lower than the guess\n",
      "correctly guessed number 7\n"
     ]
    },
    {
     "data": {
      "text/plain": [
       "{'name': 'Rammohan',\n",
       " 'number': 7,\n",
       " 'guess': 7,\n",
       " 'guesses_left': 3,\n",
       " 'lower_bound': 6,\n",
       " 'upper_bound': 6}"
      ]
     },
     "execution_count": 132,
     "metadata": {},
     "output_type": "execute_result"
    }
   ],
   "source": [
    "input = State(name = \"Rammohan\",  number=7)\n",
    "app.invoke(input)"
   ]
  }
 ],
 "metadata": {
  "kernelspec": {
   "display_name": ".venv",
   "language": "python",
   "name": "python3"
  },
  "language_info": {
   "codemirror_mode": {
    "name": "ipython",
    "version": 3
   },
   "file_extension": ".py",
   "mimetype": "text/x-python",
   "name": "python",
   "nbconvert_exporter": "python",
   "pygments_lexer": "ipython3",
   "version": "3.13.2"
  }
 },
 "nbformat": 4,
 "nbformat_minor": 2
}
