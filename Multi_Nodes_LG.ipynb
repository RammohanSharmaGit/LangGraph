{
 "cells": [
  {
   "cell_type": "markdown",
   "metadata": {},
   "source": [
    "Third LangGraph with multiple nodes"
   ]
  },
  {
   "cell_type": "code",
   "execution_count": 1,
   "metadata": {},
   "outputs": [],
   "source": [
    "from typing import TypedDict,List\n",
    "from langgraph.graph import StateGraph"
   ]
  },
  {
   "cell_type": "code",
   "execution_count": 2,
   "metadata": {},
   "outputs": [],
   "source": [
    "class State(TypedDict):\n",
    "    name:str\n",
    "    age:int\n",
    "    skills : List[str]\n",
    "    result : str"
   ]
  },
  {
   "cell_type": "code",
   "execution_count": 3,
   "metadata": {},
   "outputs": [],
   "source": [
    "def first_node(state: State) -> State:\n",
    "    \"\"\"node to greet with name\"\"\"\n",
    "    state[\"result\"] = f\"{state[\"name\"]}, welcome to LangGraph! \"\n",
    "    return state\n",
    "\n",
    "\n",
    "def second_node(state: State) -> State:\n",
    "    \"\"\"node to describe age\"\"\"\n",
    "    state[\"result\"] = state[\"result\"] + f\"You are {state[\"age\"]} years old! \"\n",
    "    return state\n",
    "\n",
    "\n",
    "def third_node(state: State) -> State:\n",
    "    \"\"\"list the skills\"\"\"\n",
    "    state[\"result\"] = state[\"result\"] + f\"You have skills in {\", \".join(state[\"skills\"])}.\"\n",
    "    return state\n"
   ]
  },
  {
   "cell_type": "code",
   "execution_count": 4,
   "metadata": {},
   "outputs": [],
   "source": [
    "graph = StateGraph(State)\n",
    "\n",
    "graph.add_node(\"first_node\", first_node)\n",
    "graph.add_node(\"second_node\", second_node)\n",
    "graph.add_node(\"third_node\", third_node)\n",
    "\n",
    "graph.add_edge(\"first_node\", \"second_node\")\n",
    "graph.add_edge(\"second_node\", \"third_node\")\n",
    "\n",
    "graph.set_entry_point(\"first_node\")\n",
    "graph.set_finish_point(\"third_node\")\n",
    "\n",
    "app = graph.compile()"
   ]
  },
  {
   "cell_type": "code",
   "execution_count": 5,
   "metadata": {},
   "outputs": [
    {
     "name": "stdout",
     "output_type": "stream",
     "text": [
      " +-----------+   \n",
      " | __start__ |   \n",
      " +-----------+   \n",
      "        *        \n",
      "        *        \n",
      "        *        \n",
      "+------------+   \n",
      "| first_node |   \n",
      "+------------+   \n",
      "        *        \n",
      "        *        \n",
      "        *        \n",
      "+-------------+  \n",
      "| second_node |  \n",
      "+-------------+  \n",
      "        *        \n",
      "        *        \n",
      "        *        \n",
      "+------------+   \n",
      "| third_node |   \n",
      "+------------+   \n",
      "        *        \n",
      "        *        \n",
      "        *        \n",
      "  +---------+    \n",
      "  | __end__ |    \n",
      "  +---------+    \n"
     ]
    }
   ],
   "source": [
    "app.get_graph().print_ascii()"
   ]
  },
  {
   "cell_type": "code",
   "execution_count": 6,
   "metadata": {},
   "outputs": [],
   "source": [
    "outcome = app.invoke({\"name\":\"rammohan\", \"age\":24, \"skills\":[\"python\", \"java\"]})"
   ]
  },
  {
   "cell_type": "code",
   "execution_count": 7,
   "metadata": {},
   "outputs": [
    {
     "name": "stdout",
     "output_type": "stream",
     "text": [
      "rammohan, welcome to LangGraph! You are 24 years old! You have skills in python, java.\n"
     ]
    }
   ],
   "source": [
    "print(outcome[\"result\"])"
   ]
  }
 ],
 "metadata": {
  "kernelspec": {
   "display_name": ".venv",
   "language": "python",
   "name": "python3"
  },
  "language_info": {
   "codemirror_mode": {
    "name": "ipython",
    "version": 3
   },
   "file_extension": ".py",
   "mimetype": "text/x-python",
   "name": "python",
   "nbconvert_exporter": "python",
   "pygments_lexer": "ipython3",
   "version": "3.13.2"
  }
 },
 "nbformat": 4,
 "nbformat_minor": 2
}
