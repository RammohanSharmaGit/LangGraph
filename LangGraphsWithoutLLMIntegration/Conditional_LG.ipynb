{
 "cells": [
  {
   "cell_type": "markdown",
   "metadata": {},
   "source": [
    "Fourth LangGraph with conditional edges"
   ]
  },
  {
   "cell_type": "code",
   "execution_count": 1,
   "metadata": {},
   "outputs": [],
   "source": [
    "from typing import TypedDict\n",
    "from langgraph.graph import StateGraph, START, END"
   ]
  },
  {
   "cell_type": "code",
   "execution_count": 13,
   "metadata": {},
   "outputs": [],
   "source": [
    "class State(TypedDict):\n",
    "    number1 : int\n",
    "    number2 : int \n",
    "    operation1 : str\n",
    "    number3 : int\n",
    "    number4 : int\n",
    "    operation2 : str\n",
    "    finalNumber1 : int\n",
    "    finalNumber2 : int"
   ]
  },
  {
   "cell_type": "code",
   "execution_count": 14,
   "metadata": {},
   "outputs": [],
   "source": [
    "def add_node(state : State) -> State:\n",
    "    \"\"\"node to add two numbers\"\"\"\n",
    "    state[\"finalNumber1\"] = state[\"number1\"] + state[\"number2\"]\n",
    "    return state\n",
    "\n",
    "def subtract_node(state : State) -> State:\n",
    "    \"\"\"node to add two numbers\"\"\"\n",
    "    state[\"finalNumber1\"] = state[\"number1\"] - state[\"number2\"]\n",
    "    return state\n",
    "\n",
    "def decide_node(state : State) -> State:\n",
    "    \"\"\"node to decide which node to take next\"\"\"\n",
    "    if (state[\"operation1\"] == \"+\"):\n",
    "        return \"addition_operation\"\n",
    "    else:\n",
    "        return \"subtraction_operation\"\n",
    "    \n",
    "def add_node2(state : State) -> State:\n",
    "    \"\"\"node to add two numbers\"\"\"\n",
    "    state[\"finalNumber2\"] = state[\"number3\"] + state[\"number4\"]\n",
    "    return state\n",
    "\n",
    "def subtract_node2(state : State) -> State:\n",
    "    \"\"\"node to add two numbers\"\"\"\n",
    "    state[\"finalNumber2\"] = state[\"number3\"] - state[\"number4\"]\n",
    "    return state\n",
    "\n",
    "def decide_node2(state : State) -> State:\n",
    "    \"\"\"node to decide which node to take next\"\"\"\n",
    "    if (state[\"operation2\"] == \"+\"):\n",
    "        return \"addition_operation2\"\n",
    "    else:\n",
    "        return \"subtraction_operation2\"    "
   ]
  },
  {
   "cell_type": "code",
   "execution_count": 15,
   "metadata": {},
   "outputs": [],
   "source": [
    "graph = StateGraph(State)\n",
    "\n",
    "graph.add_node(\"add_node\", add_node)\n",
    "graph.add_node(\"add_node2\", add_node2)\n",
    "graph.add_node(\"subtract_node\", subtract_node)\n",
    "graph.add_node(\"subtract_node2\", subtract_node2)\n",
    "graph.add_node(\"router\", lambda state:state)\n",
    "graph.add_node(\"router2\", lambda state:state)\n",
    "\n",
    "graph.add_edge(START, \"router\")\n",
    "graph.add_conditional_edges(\n",
    "    \"router\",\n",
    "    decide_node,\n",
    "    {\n",
    "        \"addition_operation\" : \"add_node\",\n",
    "        \"subtraction_operation\" : \"subtract_node\"\n",
    "    }\n",
    ")\n",
    "graph.add_edge(\"add_node\", \"router2\")\n",
    "graph.add_edge(\"subtract_node\", \"router2\")\n",
    "graph.add_conditional_edges(\n",
    "    \"router2\",\n",
    "    decide_node2,\n",
    "    {\n",
    "        \"addition_operation2\" : \"add_node2\",\n",
    "        \"subtraction_operation2\" : \"subtract_node2\"\n",
    "    }\n",
    ")\n",
    "graph.add_edge(\"add_node2\",END)\n",
    "graph.add_edge(\"subtract_node2\", END)\n",
    "\n",
    "app = graph.compile()"
   ]
  },
  {
   "cell_type": "code",
   "execution_count": 16,
   "metadata": {},
   "outputs": [
    {
     "name": "stdout",
     "output_type": "stream",
     "text": [
      "             +-----------+                 \n",
      "             | __start__ |                 \n",
      "             +-----------+                 \n",
      "                   *                       \n",
      "                   *                       \n",
      "                   *                       \n",
      "              +--------+                   \n",
      "              | router |                   \n",
      "              +--------+                   \n",
      "            ...         ...                \n",
      "           .               .               \n",
      "         ..                 ..             \n",
      " +----------+          +---------------+   \n",
      " | add_node |          | subtract_node |   \n",
      " +----------+          +---------------+   \n",
      "            ***         ***                \n",
      "               *       *                   \n",
      "                **   **                    \n",
      "              +---------+                  \n",
      "              | router2 |                  \n",
      "              +---------+                  \n",
      "            ...          ..                \n",
      "           .               ..              \n",
      "         ..                  ..            \n",
      "+-----------+          +----------------+  \n",
      "| add_node2 |          | subtract_node2 |  \n",
      "+-----------+          +----------------+  \n",
      "            ***          **                \n",
      "               *       **                  \n",
      "                **   **                    \n",
      "              +---------+                  \n",
      "              | __end__ |                  \n",
      "              +---------+                  \n"
     ]
    }
   ],
   "source": [
    "app.get_graph().print_ascii()"
   ]
  },
  {
   "cell_type": "code",
   "execution_count": 18,
   "metadata": {},
   "outputs": [
    {
     "name": "stdout",
     "output_type": "stream",
     "text": [
      "{'number1': 10, 'number2': 5, 'operation1': '-', 'number3': 7, 'number4': 2, 'operation2': '+', 'finalNumber1': 5, 'finalNumber2': 9}\n"
     ]
    }
   ],
   "source": [
    "input = State(number1=10, operation1=\"-\", number2=5, number3=7, number4=2, operation2=\"+\", finalNumber1=0, finalNumber2=0)\n",
    "print(app.invoke(input))"
   ]
  }
 ],
 "metadata": {
  "kernelspec": {
   "display_name": ".venv",
   "language": "python",
   "name": "python3"
  },
  "language_info": {
   "codemirror_mode": {
    "name": "ipython",
    "version": 3
   },
   "file_extension": ".py",
   "mimetype": "text/x-python",
   "name": "python",
   "nbconvert_exporter": "python",
   "pygments_lexer": "ipython3",
   "version": "3.13.2"
  }
 },
 "nbformat": 4,
 "nbformat_minor": 2
}
