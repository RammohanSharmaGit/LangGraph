{
 "cells": [
  {
   "cell_type": "markdown",
   "metadata": {},
   "source": [
    "Second LangGraph taking multiple inputs"
   ]
  },
  {
   "cell_type": "code",
   "execution_count": 99,
   "metadata": {},
   "outputs": [],
   "source": [
    "from typing import TypedDict, List\n",
    "from langgraph.graph import StateGraph\n",
    "import math"
   ]
  },
  {
   "cell_type": "code",
   "execution_count": 100,
   "metadata": {},
   "outputs": [],
   "source": [
    "class State(TypedDict):\n",
    "    values : List[int]\n",
    "    name : str\n",
    "    operation : str\n",
    "    result : str"
   ]
  },
  {
   "cell_type": "code",
   "execution_count": 101,
   "metadata": {},
   "outputs": [],
   "source": [
    "def process_values(state : State) -> State:\n",
    "    \"\"\"a node to process multiple values\"\"\"\n",
    "\n",
    "    if (state[\"operation\"] == \"+\"):\n",
    "        state[\"result\"] = f\"Hi {state[\"name\"]}, your answer is = {sum(state[\"values\"])}\"\n",
    "    elif (state[\"operation\"] == \"*\"):\n",
    "        state[\"result\"] = f\"Hi {state[\"name\"]}, your answer is = {math.prod(state[\"values\"])}\"\n",
    "    else:\n",
    "        state[\"result\"] = \"invalid!\"\n",
    "\n",
    "    return state"
   ]
  },
  {
   "cell_type": "code",
   "execution_count": 102,
   "metadata": {},
   "outputs": [],
   "source": [
    "graph = StateGraph(State)\n",
    "\n",
    "graph.add_node(\"processor\", process_values)\n",
    "graph.set_entry_point(\"processor\")\n",
    "graph.set_finish_point(\"processor\")\n",
    "\n",
    "app = graph.compile()"
   ]
  },
  {
   "cell_type": "code",
   "execution_count": 103,
   "metadata": {},
   "outputs": [
    {
     "name": "stdout",
     "output_type": "stream",
     "text": [
      "+-----------+  \n",
      "| __start__ |  \n",
      "+-----------+  \n",
      "      *        \n",
      "      *        \n",
      "      *        \n",
      "+-----------+  \n",
      "| processor |  \n",
      "+-----------+  \n",
      "      *        \n",
      "      *        \n",
      "      *        \n",
      " +---------+   \n",
      " | __end__ |   \n",
      " +---------+   \n"
     ]
    }
   ],
   "source": [
    "\n",
    "app.get_graph().print_ascii()"
   ]
  },
  {
   "cell_type": "code",
   "execution_count": 104,
   "metadata": {},
   "outputs": [],
   "source": [
    "result = app.invoke({\"values\":[1,2,3,4,5], \"name\":\"Rammohan\", \"operation\":\"*\"})"
   ]
  },
  {
   "cell_type": "code",
   "execution_count": 105,
   "metadata": {},
   "outputs": [
    {
     "name": "stdout",
     "output_type": "stream",
     "text": [
      "Hi Rammohan, your answer is = 120\n"
     ]
    }
   ],
   "source": [
    "print(result[\"result\"])"
   ]
  }
 ],
 "metadata": {
  "kernelspec": {
   "display_name": ".venv",
   "language": "python",
   "name": "python3"
  },
  "language_info": {
   "codemirror_mode": {
    "name": "ipython",
    "version": 3
   },
   "file_extension": ".py",
   "mimetype": "text/x-python",
   "name": "python",
   "nbconvert_exporter": "python",
   "pygments_lexer": "ipython3",
   "version": "3.13.2"
  }
 },
 "nbformat": 4,
 "nbformat_minor": 2
}
